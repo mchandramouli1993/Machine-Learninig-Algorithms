{
 "cells": [
  {
   "cell_type": "code",
   "execution_count": 1,
   "metadata": {},
   "outputs": [],
   "source": [
    "import pandas as pd\n",
    "from scipy.stats import zscore\n",
    "import numpy as np\n",
    "\n",
    "import matplotlib.pyplot as plt\n",
    "import time\n",
    "\n",
    "from sklearn import metrics\n",
    "from sklearn.preprocessing import StandardScaler\n",
    "from sklearn.cluster import spectral_clustering\n",
    "from sklearn.cluster import SpectralClustering"
   ]
  },
  {
   "cell_type": "code",
   "execution_count": 2,
   "metadata": {},
   "outputs": [],
   "source": [
    "import collections\n",
    "import sklearn.metrics as sm"
   ]
  },
  {
   "cell_type": "code",
   "execution_count": 3,
   "metadata": {},
   "outputs": [],
   "source": [
    "data = pd.read_csv('iris_data.csv')"
   ]
  },
  {
   "cell_type": "code",
   "execution_count": 4,
   "metadata": {},
   "outputs": [],
   "source": [
    "def convertToVals(X):\n",
    "    myArray = []\n",
    "    for x in X:\n",
    "        if x == 'Iris-setosa':\n",
    "            myArray.append(0)\n",
    "        elif x == 'Iris-versicolor':\n",
    "            myArray.append(1)\n",
    "        else:\n",
    "            myArray.append(2)\n",
    "    return myArray"
   ]
  },
  {
   "cell_type": "code",
   "execution_count": 5,
   "metadata": {},
   "outputs": [],
   "source": [
    "target = np.array(convertToVals(data.iloc[:,4:].values))"
   ]
  },
  {
   "cell_type": "code",
   "execution_count": 6,
   "metadata": {},
   "outputs": [],
   "source": [
    "data['class'] = target"
   ]
  },
  {
   "cell_type": "code",
   "execution_count": 7,
   "metadata": {},
   "outputs": [],
   "source": [
    "data = StandardScaler().fit_transform(data.iloc[:,:4].values)"
   ]
  },
  {
   "cell_type": "code",
   "execution_count": 8,
   "metadata": {},
   "outputs": [
    {
     "data": {
      "text/plain": [
       "array([[-1.1483555 , -0.11805969, -1.35396443, -1.32506301],\n",
       "       [-1.3905423 ,  0.34485856, -1.41098555, -1.32506301],\n",
       "       [-1.51163569,  0.11339944, -1.29694332, -1.32506301],\n",
       "       [-1.02726211,  1.27069504, -1.35396443, -1.32506301],\n",
       "       [-0.54288852,  1.9650724 , -1.18290109, -1.0614657 ],\n",
       "       [-1.51163569,  0.8077768 , -1.35396443, -1.19326436],\n",
       "       [-1.02726211,  0.8077768 , -1.29694332, -1.32506301],\n",
       "       [-1.75382249, -0.34951881, -1.35396443, -1.32506301],\n",
       "       [-1.1483555 ,  0.11339944, -1.29694332, -1.45686167],\n",
       "       [-0.54288852,  1.50215416, -1.29694332, -1.32506301],\n",
       "       [-1.2694489 ,  0.8077768 , -1.23992221, -1.32506301],\n",
       "       [-1.2694489 , -0.11805969, -1.35396443, -1.45686167],\n",
       "       [-1.87491588, -0.11805969, -1.52502777, -1.45686167],\n",
       "       [-0.05851493,  2.19653152, -1.46800666, -1.32506301],\n",
       "       [-0.17960833,  3.122368  , -1.29694332, -1.0614657 ],\n",
       "       [-0.54288852,  1.9650724 , -1.41098555, -1.0614657 ],\n",
       "       [-0.90616871,  1.03923592, -1.35396443, -1.19326436],\n",
       "       [-0.17960833,  1.73361328, -1.18290109, -1.19326436],\n",
       "       [-0.90616871,  1.73361328, -1.29694332, -1.19326436],\n",
       "       [-0.54288852,  0.8077768 , -1.18290109, -1.32506301],\n",
       "       [-0.90616871,  1.50215416, -1.29694332, -1.0614657 ],\n",
       "       [-1.51163569,  1.27069504, -1.58204889, -1.32506301],\n",
       "       [-0.90616871,  0.57631768, -1.18290109, -0.92966704],\n",
       "       [-1.2694489 ,  0.8077768 , -1.06885886, -1.32506301],\n",
       "       [-1.02726211, -0.11805969, -1.23992221, -1.32506301],\n",
       "       [-1.02726211,  0.8077768 , -1.23992221, -1.0614657 ],\n",
       "       [-0.78507531,  1.03923592, -1.29694332, -1.32506301],\n",
       "       [-0.78507531,  0.8077768 , -1.35396443, -1.32506301],\n",
       "       [-1.3905423 ,  0.34485856, -1.23992221, -1.32506301],\n",
       "       [-1.2694489 ,  0.11339944, -1.23992221, -1.32506301],\n",
       "       [-0.54288852,  0.8077768 , -1.29694332, -1.0614657 ],\n",
       "       [-0.78507531,  2.42799064, -1.29694332, -1.45686167],\n",
       "       [-0.42179512,  2.65944976, -1.35396443, -1.32506301],\n",
       "       [-1.1483555 ,  0.11339944, -1.29694332, -1.45686167],\n",
       "       [-1.02726211,  0.34485856, -1.46800666, -1.32506301],\n",
       "       [-0.42179512,  1.03923592, -1.41098555, -1.32506301],\n",
       "       [-1.1483555 ,  0.11339944, -1.29694332, -1.45686167],\n",
       "       [-1.75382249, -0.11805969, -1.41098555, -1.32506301],\n",
       "       [-0.90616871,  0.8077768 , -1.29694332, -1.32506301],\n",
       "       [-1.02726211,  1.03923592, -1.41098555, -1.19326436],\n",
       "       [-1.63272909, -1.73827353, -1.41098555, -1.19326436],\n",
       "       [-1.75382249,  0.34485856, -1.41098555, -1.32506301],\n",
       "       [-1.02726211,  1.03923592, -1.23992221, -0.79786838],\n",
       "       [-0.90616871,  1.73361328, -1.06885886, -1.0614657 ],\n",
       "       [-1.2694489 , -0.11805969, -1.35396443, -1.19326436],\n",
       "       [-0.90616871,  1.73361328, -1.23992221, -1.32506301],\n",
       "       [-1.51163569,  0.34485856, -1.35396443, -1.32506301],\n",
       "       [-0.66398191,  1.50215416, -1.29694332, -1.32506301],\n",
       "       [-1.02726211,  0.57631768, -1.35396443, -1.32506301],\n",
       "       [ 1.39460583,  0.34485856,  0.52773232,  0.25652088],\n",
       "       [ 0.66804545,  0.34485856,  0.41369009,  0.38831953],\n",
       "       [ 1.27351244,  0.11339944,  0.64177455,  0.38831953],\n",
       "       [-0.42179512, -1.73827353,  0.12858453,  0.12472222],\n",
       "       [ 0.78913885, -0.58097793,  0.47071121,  0.38831953],\n",
       "       [-0.17960833, -0.58097793,  0.41369009,  0.12472222],\n",
       "       [ 0.54695205,  0.57631768,  0.52773232,  0.52011819],\n",
       "       [-1.1483555 , -1.50681441, -0.27056327, -0.27067375],\n",
       "       [ 0.91023225, -0.34951881,  0.47071121,  0.12472222],\n",
       "       [-0.78507531, -0.81243705,  0.07156341,  0.25652088],\n",
       "       [-1.02726211, -2.43265089, -0.15652104, -0.27067375],\n",
       "       [ 0.06257847, -0.11805969,  0.24262675,  0.38831953],\n",
       "       [ 0.18367186, -1.96973265,  0.12858453, -0.27067375],\n",
       "       [ 0.30476526, -0.34951881,  0.52773232,  0.25652088],\n",
       "       [-0.30070172, -0.34951881, -0.09949993,  0.12472222],\n",
       "       [ 1.03132564,  0.11339944,  0.35666898,  0.25652088],\n",
       "       [-0.30070172, -0.11805969,  0.41369009,  0.38831953],\n",
       "       [-0.05851493, -0.81243705,  0.18560564, -0.27067375],\n",
       "       [ 0.42585866, -1.96973265,  0.41369009,  0.38831953],\n",
       "       [-0.30070172, -1.27535529,  0.07156341, -0.1388751 ],\n",
       "       [ 0.06257847,  0.34485856,  0.58475344,  0.78371551],\n",
       "       [ 0.30476526, -0.58097793,  0.12858453,  0.12472222],\n",
       "       [ 0.54695205, -1.27535529,  0.64177455,  0.38831953],\n",
       "       [ 0.30476526, -0.58097793,  0.52773232, -0.00707644],\n",
       "       [ 0.66804545, -0.34951881,  0.29964787,  0.12472222],\n",
       "       [ 0.91023225, -0.11805969,  0.35666898,  0.25652088],\n",
       "       [ 1.15241904, -0.58097793,  0.58475344,  0.25652088],\n",
       "       [ 1.03132564, -0.11805969,  0.69879566,  0.65191685],\n",
       "       [ 0.18367186, -0.34951881,  0.41369009,  0.38831953],\n",
       "       [-0.17960833, -1.04389617, -0.15652104, -0.27067375],\n",
       "       [-0.42179512, -1.50681441,  0.0145423 , -0.1388751 ],\n",
       "       [-0.42179512, -1.50681441, -0.04247882, -0.27067375],\n",
       "       [-0.05851493, -0.81243705,  0.07156341, -0.00707644],\n",
       "       [ 0.18367186, -0.81243705,  0.75581678,  0.52011819],\n",
       "       [-0.54288852, -0.11805969,  0.41369009,  0.38831953],\n",
       "       [ 0.18367186,  0.8077768 ,  0.41369009,  0.52011819],\n",
       "       [ 1.03132564,  0.11339944,  0.52773232,  0.38831953],\n",
       "       [ 0.54695205, -1.73827353,  0.35666898,  0.12472222],\n",
       "       [-0.30070172, -0.11805969,  0.18560564,  0.12472222],\n",
       "       [-0.42179512, -1.27535529,  0.12858453,  0.12472222],\n",
       "       [-0.42179512, -1.04389617,  0.35666898, -0.00707644],\n",
       "       [ 0.30476526, -0.11805969,  0.47071121,  0.25652088],\n",
       "       [-0.05851493, -1.04389617,  0.12858453, -0.00707644],\n",
       "       [-1.02726211, -1.73827353, -0.27056327, -0.27067375],\n",
       "       [-0.30070172, -0.81243705,  0.24262675,  0.12472222],\n",
       "       [-0.17960833, -0.11805969,  0.24262675, -0.00707644],\n",
       "       [-0.17960833, -0.34951881,  0.24262675,  0.12472222],\n",
       "       [ 0.42585866, -0.34951881,  0.29964787,  0.12472222],\n",
       "       [-0.90616871, -1.27535529, -0.44162661, -0.1388751 ],\n",
       "       [-0.17960833, -0.58097793,  0.18560564,  0.12472222],\n",
       "       [ 0.54695205,  0.57631768,  1.2690068 ,  1.70630611],\n",
       "       [-0.05851493, -0.81243705,  0.75581678,  0.91551417],\n",
       "       [ 1.51569923, -0.11805969,  1.21198569,  1.17911148],\n",
       "       [ 0.54695205, -0.34951881,  1.04092235,  0.78371551],\n",
       "       [ 0.78913885, -0.11805969,  1.15496457,  1.31091014],\n",
       "       [ 2.12116622, -0.11805969,  1.61113348,  1.17911148],\n",
       "       [-1.1483555 , -1.27535529,  0.41369009,  0.65191685],\n",
       "       [ 1.75788602, -0.34951881,  1.44007014,  0.78371551],\n",
       "       [ 1.03132564, -1.27535529,  1.15496457,  0.78371551],\n",
       "       [ 1.63679263,  1.27069504,  1.32602791,  1.70630611],\n",
       "       [ 0.78913885,  0.34485856,  0.75581678,  1.04731282],\n",
       "       [ 0.66804545, -0.81243705,  0.869859  ,  0.91551417],\n",
       "       [ 1.15241904, -0.11805969,  0.98390123,  1.17911148],\n",
       "       [-0.17960833, -1.27535529,  0.69879566,  1.04731282],\n",
       "       [-0.05851493, -0.58097793,  0.75581678,  1.57450745],\n",
       "       [ 0.66804545,  0.34485856,  0.869859  ,  1.4427088 ],\n",
       "       [ 0.78913885, -0.11805969,  0.98390123,  0.78371551],\n",
       "       [ 2.24225961,  1.73361328,  1.6681546 ,  1.31091014],\n",
       "       [ 2.24225961, -1.04389617,  1.78219682,  1.4427088 ],\n",
       "       [ 0.18367186, -1.96973265,  0.69879566,  0.38831953],\n",
       "       [ 1.27351244,  0.34485856,  1.09794346,  1.4427088 ],\n",
       "       [-0.30070172, -0.58097793,  0.64177455,  1.04731282],\n",
       "       [ 2.24225961, -0.58097793,  1.6681546 ,  1.04731282],\n",
       "       [ 0.54695205, -0.81243705,  0.64177455,  0.78371551],\n",
       "       [ 1.03132564,  0.57631768,  1.09794346,  1.17911148],\n",
       "       [ 1.63679263,  0.34485856,  1.2690068 ,  0.78371551],\n",
       "       [ 0.42585866, -0.58097793,  0.58475344,  0.78371551],\n",
       "       [ 0.30476526, -0.11805969,  0.64177455,  0.78371551],\n",
       "       [ 0.66804545, -0.58097793,  1.04092235,  1.17911148],\n",
       "       [ 1.63679263, -0.11805969,  1.15496457,  0.52011819],\n",
       "       [ 1.87897942, -0.58097793,  1.32602791,  0.91551417],\n",
       "       [ 2.48444641,  1.73361328,  1.49709126,  1.04731282],\n",
       "       [ 0.66804545, -0.58097793,  1.04092235,  1.31091014],\n",
       "       [ 0.54695205, -0.58097793,  0.75581678,  0.38831953],\n",
       "       [ 0.30476526, -1.04389617,  1.04092235,  0.25652088],\n",
       "       [ 2.24225961, -0.11805969,  1.32602791,  1.4427088 ],\n",
       "       [ 0.54695205,  0.8077768 ,  1.04092235,  1.57450745],\n",
       "       [ 0.66804545,  0.11339944,  0.98390123,  0.78371551],\n",
       "       [ 0.18367186, -0.11805969,  0.58475344,  0.78371551],\n",
       "       [ 1.27351244,  0.11339944,  0.92688012,  1.17911148],\n",
       "       [ 1.03132564,  0.11339944,  1.04092235,  1.57450745],\n",
       "       [ 1.27351244,  0.11339944,  0.75581678,  1.4427088 ],\n",
       "       [-0.05851493, -0.81243705,  0.75581678,  0.91551417],\n",
       "       [ 1.15241904,  0.34485856,  1.21198569,  1.4427088 ],\n",
       "       [ 1.03132564,  0.57631768,  1.09794346,  1.70630611],\n",
       "       [ 1.03132564, -0.11805969,  0.81283789,  1.4427088 ],\n",
       "       [ 0.54695205, -1.27535529,  0.69879566,  0.91551417],\n",
       "       [ 0.78913885, -0.11805969,  0.81283789,  1.04731282],\n",
       "       [ 0.42585866,  0.8077768 ,  0.92688012,  1.4427088 ],\n",
       "       [ 0.06257847, -0.11805969,  0.75581678,  0.78371551]])"
      ]
     },
     "execution_count": 8,
     "metadata": {},
     "output_type": "execute_result"
    }
   ],
   "source": [
    "data"
   ]
  },
  {
   "cell_type": "code",
   "execution_count": 9,
   "metadata": {},
   "outputs": [
    {
     "data": {
      "text/plain": [
       "array([0, 0, 0, 0, 0, 0, 0, 0, 0, 0, 0, 0, 0, 0, 0, 0, 0, 0, 0, 0, 0, 0,\n",
       "       0, 0, 0, 0, 0, 0, 0, 0, 0, 0, 0, 0, 0, 0, 0, 0, 0, 0, 0, 0, 0, 0,\n",
       "       0, 0, 0, 0, 0, 1, 1, 1, 1, 1, 1, 1, 1, 1, 1, 1, 1, 1, 1, 1, 1, 1,\n",
       "       1, 1, 1, 1, 1, 1, 1, 1, 1, 1, 1, 1, 1, 1, 1, 1, 1, 1, 1, 1, 1, 1,\n",
       "       1, 1, 1, 1, 1, 1, 1, 1, 1, 1, 1, 2, 2, 2, 2, 2, 2, 2, 2, 2, 2, 2,\n",
       "       2, 2, 2, 2, 2, 2, 2, 2, 2, 2, 2, 2, 2, 2, 2, 2, 2, 2, 2, 2, 2, 2,\n",
       "       2, 2, 2, 2, 2, 2, 2, 2, 2, 2, 2, 2, 2, 2, 2, 2, 2])"
      ]
     },
     "execution_count": 9,
     "metadata": {},
     "output_type": "execute_result"
    }
   ],
   "source": [
    "target"
   ]
  },
  {
   "cell_type": "code",
   "execution_count": 10,
   "metadata": {},
   "outputs": [],
   "source": [
    "X = pd.DataFrame(data)"
   ]
  },
  {
   "cell_type": "code",
   "execution_count": 11,
   "metadata": {},
   "outputs": [],
   "source": [
    "X.columns = ['Sepal_Length','Sepal_Width','Petal_Length','Petal_Width']"
   ]
  },
  {
   "cell_type": "code",
   "execution_count": 12,
   "metadata": {},
   "outputs": [],
   "source": [
    "spectral = SpectralClustering(n_clusters=3,\n",
    "      eigen_solver='arpack',\n",
    "      affinity='rbf',\n",
    "      assign_labels='discretize'\n",
    "  ).fit(data)"
   ]
  },
  {
   "cell_type": "code",
   "execution_count": 13,
   "metadata": {},
   "outputs": [
    {
     "data": {
      "text/plain": [
       "array([1, 1, 1, 1, 1, 1, 1, 1, 1, 1, 1, 1, 1, 1, 1, 1, 1, 1, 1, 1, 1, 1,\n",
       "       1, 1, 1, 1, 1, 1, 1, 1, 1, 1, 1, 1, 1, 1, 1, 1, 1, 1, 1, 1, 1, 1,\n",
       "       1, 1, 1, 1, 1, 0, 0, 0, 2, 2, 2, 0, 2, 2, 2, 2, 2, 2, 2, 2, 0, 2,\n",
       "       2, 2, 2, 0, 2, 2, 2, 2, 0, 0, 0, 2, 2, 2, 2, 2, 2, 2, 0, 0, 2, 2,\n",
       "       2, 2, 2, 2, 2, 2, 2, 2, 2, 2, 2, 0, 2, 0, 0, 0, 0, 2, 0, 0, 0, 0,\n",
       "       0, 0, 2, 0, 0, 0, 0, 0, 2, 0, 2, 0, 2, 0, 0, 2, 0, 0, 0, 0, 0, 0,\n",
       "       2, 2, 0, 0, 0, 2, 0, 0, 0, 2, 0, 0, 0, 2, 0, 0, 2], dtype=int64)"
      ]
     },
     "execution_count": 13,
     "metadata": {},
     "output_type": "execute_result"
    }
   ],
   "source": [
    "spectral.labels_"
   ]
  },
  {
   "cell_type": "code",
   "execution_count": 14,
   "metadata": {},
   "outputs": [
    {
     "data": {
      "text/plain": [
       "array([0, 0, 0, 0, 0, 0, 0, 0, 0, 0, 0, 0, 0, 0, 0, 0, 0, 0, 0, 0, 0, 0,\n",
       "       0, 0, 0, 0, 0, 0, 0, 0, 0, 0, 0, 0, 0, 0, 0, 0, 0, 0, 0, 0, 0, 0,\n",
       "       0, 0, 0, 0, 0, 1, 1, 1, 1, 1, 1, 1, 1, 1, 1, 1, 1, 1, 1, 1, 1, 1,\n",
       "       1, 1, 1, 1, 1, 1, 1, 1, 1, 1, 1, 1, 1, 1, 1, 1, 1, 1, 1, 1, 1, 1,\n",
       "       1, 1, 1, 1, 1, 1, 1, 1, 1, 1, 1, 2, 2, 2, 2, 2, 2, 2, 2, 2, 2, 2,\n",
       "       2, 2, 2, 2, 2, 2, 2, 2, 2, 2, 2, 2, 2, 2, 2, 2, 2, 2, 2, 2, 2, 2,\n",
       "       2, 2, 2, 2, 2, 2, 2, 2, 2, 2, 2, 2, 2, 2, 2, 2, 2])"
      ]
     },
     "execution_count": 14,
     "metadata": {},
     "output_type": "execute_result"
    }
   ],
   "source": [
    "target"
   ]
  },
  {
   "cell_type": "code",
   "execution_count": 15,
   "metadata": {},
   "outputs": [
    {
     "name": "stdout",
     "output_type": "stream",
     "text": [
      "[0 0 0 0 0 0 0 0 0 0 0 0 0 0 0 0 0 0 0 0 0 0 0 0 0 0 0 0 0 0 0 0 0 0 0 0 0\n",
      " 0 0 0 0 0 0 0 0 0 0 0 0 2 2 2 1 1 1 2 1 1 1 1 1 1 1 1 2 1 1 1 1 2 1 1 1 1\n",
      " 2 2 2 1 1 1 1 1 1 1 2 2 1 1 1 1 1 1 1 1 1 1 1 1 1 2 1 2 2 2 2 1 2 2 2 2 2\n",
      " 2 1 2 2 2 2 2 1 2 1 2 1 2 2 1 2 2 2 2 2 2 1 1 2 2 2 1 2 2 2 1 2 2 2 1 2 2\n",
      " 1]\n",
      "[0 0 0 0 0 0 0 0 0 0 0 0 0 0 0 0 0 0 0 0 0 0 0 0 0 0 0 0 0 0 0 0 0 0 0 0 0\n",
      " 0 0 0 0 0 0 0 0 0 0 0 0 1 1 1 1 1 1 1 1 1 1 1 1 1 1 1 1 1 1 1 1 1 1 1 1 1\n",
      " 1 1 1 1 1 1 1 1 1 1 1 1 1 1 1 1 1 1 1 1 1 1 1 1 1 2 2 2 2 2 2 2 2 2 2 2 2\n",
      " 2 2 2 2 2 2 2 2 2 2 2 2 2 2 2 2 2 2 2 2 2 2 2 2 2 2 2 2 2 2 2 2 2 2 2 2 2\n",
      " 2]\n"
     ]
    }
   ],
   "source": [
    "# The fix, we convert all the 1s to 0s and 0s to 1s.\n",
    "predY = np.choose(spectral.labels_, [2, 0, 1]).astype(np.int64)\n",
    "print (predY)\n",
    "print (target)"
   ]
  },
  {
   "cell_type": "code",
   "execution_count": 16,
   "metadata": {},
   "outputs": [
    {
     "data": {
      "text/plain": [
       "Text(0.5,1,'Spectral Classification')"
      ]
     },
     "execution_count": 16,
     "metadata": {},
     "output_type": "execute_result"
    },
    {
     "data": {
      "image/png": "[encoded data removed]",
      "text/plain": [
       "<Figure size 1008x504 with 2 Axes>"
      ]
     },
     "metadata": {},
     "output_type": "display_data"
    }
   ],
   "source": [
    "# View the results\n",
    "# Set the size of the plot\n",
    "plt.figure(figsize=(14,7))\n",
    " \n",
    "# Create a colormap\n",
    "colormap = np.array(['red', 'yellow', 'green'])\n",
    " \n",
    "# Plot Orginal\n",
    "plt.subplot(1, 2, 1)\n",
    "plt.scatter(X.Sepal_Length, X.Sepal_Width, c=colormap[target], s=40)\n",
    "plt.title('Real Classification')\n",
    " \n",
    "# Plot Predicted with corrected values\n",
    "plt.subplot(1, 2, 2)\n",
    "plt.scatter(X.Sepal_Length, X.Sepal_Width, c=colormap[predY], s=40)\n",
    "plt.title('Spectral Classification')"
   ]
  },
  {
   "cell_type": "code",
   "execution_count": 17,
   "metadata": {},
   "outputs": [
    {
     "data": {
      "text/plain": [
       "0.8389261744966443"
      ]
     },
     "execution_count": 17,
     "metadata": {},
     "output_type": "execute_result"
    }
   ],
   "source": [
    "# Performance Metrics\n",
    "sm.accuracy_score(target, predY)"
   ]
  },
  {
   "cell_type": "code",
   "execution_count": 18,
   "metadata": {},
   "outputs": [
    {
     "data": {
      "text/plain": [
       "array([[49,  0,  0],\n",
       "       [ 0, 39, 11],\n",
       "       [ 0, 13, 37]], dtype=int64)"
      ]
     },
     "execution_count": 18,
     "metadata": {},
     "output_type": "execute_result"
    }
   ],
   "source": [
    "# Confusion Matrix\n",
    "sm.confusion_matrix(target, predY)"
   ]
  },
  {
   "cell_type": "code",
   "execution_count": 20,
   "metadata": {},
   "outputs": [
    {
     "name": "stdout",
     "output_type": "stream",
     "text": [
      "--- 0.013994216918945312 seconds ---\n"
     ]
    }
   ],
   "source": [
    "start_time = time.time()\n",
    "spectral = SpectralClustering(n_clusters=3,\n",
    "      eigen_solver='arpack',\n",
    "      affinity='rbf',\n",
    "      assign_labels='discretize'\n",
    "  ).fit(data)\n",
    "print(\"--- %s seconds ---\" % (time.time() - start_time))"
   ]
  },
  {
   "cell_type": "code",
   "execution_count": null,
   "metadata": {},
   "outputs": [],
   "source": []
  }
 ],
 "metadata": {
  "kernelspec": {
   "display_name": "Python 3",
   "language": "python",
   "name": "python3"
  },
  "language_info": {
   "codemirror_mode": {
    "name": "ipython",
    "version": 3
   },
   "file_extension": ".py",
   "mimetype": "text/x-python",
   "name": "python",
   "nbconvert_exporter": "python",
   "pygments_lexer": "ipython3",
   "version": "3.6.5"
  }
 },
 "nbformat": 4,
 "nbformat_minor": 2
}
