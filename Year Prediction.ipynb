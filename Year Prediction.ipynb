{
 "cells": [
  {
   "cell_type": "code",
   "execution_count": 1,
   "metadata": {},
   "outputs": [],
   "source": [
    "import matplotlib.pyplot as plt\n",
    "from sklearn.cluster import KMeans\n",
    "import sklearn.metrics as sm\n",
    " \n",
    "import pandas as pd\n",
    "import numpy as np\n",
    "import time\n",
    "%matplotlib inline"
   ]
  },
  {
   "cell_type": "code",
   "execution_count": 2,
   "metadata": {},
   "outputs": [],
   "source": [
    "from sklearn.cluster import AffinityPropagation"
   ]
  },
  {
   "cell_type": "code",
   "execution_count": 3,
   "metadata": {},
   "outputs": [],
   "source": [
    "import seaborn as sns\n",
    "from sklearn.utils import shuffle, resample\n",
    "from sklearn.model_selection import train_test_split\n",
    "from sklearn import decomposition\n",
    "from sklearn import preprocessing\n",
    "import itertools\n",
    "from sklearn.model_selection import GridSearchCV\n",
    "from sklearn.manifold import TSNE"
   ]
  },
  {
   "cell_type": "code",
   "execution_count": 4,
   "metadata": {},
   "outputs": [],
   "source": [
    "data = pd.read_csv('YearMSD.csv',header=None)"
   ]
  },
  {
   "cell_type": "code",
   "execution_count": 5,
   "metadata": {},
   "outputs": [],
   "source": [
    "data[0] = data[0].apply(lambda year: year-(year%10))"
   ]
  },
  {
   "cell_type": "code",
   "execution_count": 6,
   "metadata": {},
   "outputs": [
    {
     "data": {
      "text/html": [
       "<div>\n",
       "<style scoped>\n",
       "    .dataframe tbody tr th:only-of-type {\n",
       "        vertical-align: middle;\n",
       "    }\n",
       "\n",
       "    .dataframe tbody tr th {\n",
       "        vertical-align: top;\n",
       "    }\n",
       "\n",
       "    .dataframe thead th {\n",
       "        text-align: right;\n",
       "    }\n",
       "</style>\n",
       "<table border=\"1\" class=\"dataframe\">\n",
       "  <thead>\n",
       "    <tr style=\"text-align: right;\">\n",
       "      <th></th>\n",
       "      <th>0</th>\n",
       "      <th>1</th>\n",
       "      <th>2</th>\n",
       "      <th>3</th>\n",
       "      <th>4</th>\n",
       "      <th>5</th>\n",
       "      <th>6</th>\n",
       "      <th>7</th>\n",
       "      <th>8</th>\n",
       "      <th>9</th>\n",
       "      <th>...</th>\n",
       "      <th>81</th>\n",
       "      <th>82</th>\n",
       "      <th>83</th>\n",
       "      <th>84</th>\n",
       "      <th>85</th>\n",
       "      <th>86</th>\n",
       "      <th>87</th>\n",
       "      <th>88</th>\n",
       "      <th>89</th>\n",
       "      <th>90</th>\n",
       "    </tr>\n",
       "  </thead>\n",
       "  <tbody>\n",
       "    <tr>\n",
       "      <th>0</th>\n",
       "      <td>2000</td>\n",
       "      <td>49.94357</td>\n",
       "      <td>21.47114</td>\n",
       "      <td>73.07750</td>\n",
       "      <td>8.74861</td>\n",
       "      <td>-17.40628</td>\n",
       "      <td>-13.09905</td>\n",
       "      <td>-25.01202</td>\n",
       "      <td>-12.23257</td>\n",
       "      <td>7.83089</td>\n",
       "      <td>...</td>\n",
       "      <td>13.01620</td>\n",
       "      <td>-54.40548</td>\n",
       "      <td>58.99367</td>\n",
       "      <td>15.37344</td>\n",
       "      <td>1.11144</td>\n",
       "      <td>-23.08793</td>\n",
       "      <td>68.40795</td>\n",
       "      <td>-1.82223</td>\n",
       "      <td>-27.46348</td>\n",
       "      <td>2.26327</td>\n",
       "    </tr>\n",
       "    <tr>\n",
       "      <th>1</th>\n",
       "      <td>2000</td>\n",
       "      <td>48.73215</td>\n",
       "      <td>18.42930</td>\n",
       "      <td>70.32679</td>\n",
       "      <td>12.94636</td>\n",
       "      <td>-10.32437</td>\n",
       "      <td>-24.83777</td>\n",
       "      <td>8.76630</td>\n",
       "      <td>-0.92019</td>\n",
       "      <td>18.76548</td>\n",
       "      <td>...</td>\n",
       "      <td>5.66812</td>\n",
       "      <td>-19.68073</td>\n",
       "      <td>33.04964</td>\n",
       "      <td>42.87836</td>\n",
       "      <td>-9.90378</td>\n",
       "      <td>-32.22788</td>\n",
       "      <td>70.49388</td>\n",
       "      <td>12.04941</td>\n",
       "      <td>58.43453</td>\n",
       "      <td>26.92061</td>\n",
       "    </tr>\n",
       "    <tr>\n",
       "      <th>2</th>\n",
       "      <td>2000</td>\n",
       "      <td>50.95714</td>\n",
       "      <td>31.85602</td>\n",
       "      <td>55.81851</td>\n",
       "      <td>13.41693</td>\n",
       "      <td>-6.57898</td>\n",
       "      <td>-18.54940</td>\n",
       "      <td>-3.27872</td>\n",
       "      <td>-2.35035</td>\n",
       "      <td>16.07017</td>\n",
       "      <td>...</td>\n",
       "      <td>3.03800</td>\n",
       "      <td>26.05866</td>\n",
       "      <td>-50.92779</td>\n",
       "      <td>10.93792</td>\n",
       "      <td>-0.07568</td>\n",
       "      <td>43.20130</td>\n",
       "      <td>-115.00698</td>\n",
       "      <td>-0.05859</td>\n",
       "      <td>39.67068</td>\n",
       "      <td>-0.66345</td>\n",
       "    </tr>\n",
       "    <tr>\n",
       "      <th>3</th>\n",
       "      <td>2000</td>\n",
       "      <td>48.24750</td>\n",
       "      <td>-1.89837</td>\n",
       "      <td>36.29772</td>\n",
       "      <td>2.58776</td>\n",
       "      <td>0.97170</td>\n",
       "      <td>-26.21683</td>\n",
       "      <td>5.05097</td>\n",
       "      <td>-10.34124</td>\n",
       "      <td>3.55005</td>\n",
       "      <td>...</td>\n",
       "      <td>34.57337</td>\n",
       "      <td>-171.70734</td>\n",
       "      <td>-16.96705</td>\n",
       "      <td>-46.67617</td>\n",
       "      <td>-12.51516</td>\n",
       "      <td>82.58061</td>\n",
       "      <td>-72.08993</td>\n",
       "      <td>9.90558</td>\n",
       "      <td>199.62971</td>\n",
       "      <td>18.85382</td>\n",
       "    </tr>\n",
       "    <tr>\n",
       "      <th>4</th>\n",
       "      <td>2000</td>\n",
       "      <td>50.97020</td>\n",
       "      <td>42.20998</td>\n",
       "      <td>67.09964</td>\n",
       "      <td>8.46791</td>\n",
       "      <td>-15.85279</td>\n",
       "      <td>-16.81409</td>\n",
       "      <td>-12.48207</td>\n",
       "      <td>-9.37636</td>\n",
       "      <td>12.63699</td>\n",
       "      <td>...</td>\n",
       "      <td>9.92661</td>\n",
       "      <td>-55.95724</td>\n",
       "      <td>64.92712</td>\n",
       "      <td>-17.72522</td>\n",
       "      <td>-1.49237</td>\n",
       "      <td>-7.50035</td>\n",
       "      <td>51.76631</td>\n",
       "      <td>7.88713</td>\n",
       "      <td>55.66926</td>\n",
       "      <td>28.74903</td>\n",
       "    </tr>\n",
       "  </tbody>\n",
       "</table>\n",
       "<p>5 rows × 91 columns</p>\n",
       "</div>"
      ],
      "text/plain": [
       "     0         1         2         3         4         5         6         7   \\\n",
       "0  2000  49.94357  21.47114  73.07750   8.74861 -17.40628 -13.09905 -25.01202   \n",
       "1  2000  48.73215  18.42930  70.32679  12.94636 -10.32437 -24.83777   8.76630   \n",
       "2  2000  50.95714  31.85602  55.81851  13.41693  -6.57898 -18.54940  -3.27872   \n",
       "3  2000  48.24750  -1.89837  36.29772   2.58776   0.97170 -26.21683   5.05097   \n",
       "4  2000  50.97020  42.20998  67.09964   8.46791 -15.85279 -16.81409 -12.48207   \n",
       "\n",
       "         8         9     ...           81         82        83        84  \\\n",
       "0 -12.23257   7.83089    ...     13.01620  -54.40548  58.99367  15.37344   \n",
       "1  -0.92019  18.76548    ...      5.66812  -19.68073  33.04964  42.87836   \n",
       "2  -2.35035  16.07017    ...      3.03800   26.05866 -50.92779  10.93792   \n",
       "3 -10.34124   3.55005    ...     34.57337 -171.70734 -16.96705 -46.67617   \n",
       "4  -9.37636  12.63699    ...      9.92661  -55.95724  64.92712 -17.72522   \n",
       "\n",
       "         85        86         87        88         89        90  \n",
       "0   1.11144 -23.08793   68.40795  -1.82223  -27.46348   2.26327  \n",
       "1  -9.90378 -32.22788   70.49388  12.04941   58.43453  26.92061  \n",
       "2  -0.07568  43.20130 -115.00698  -0.05859   39.67068  -0.66345  \n",
       "3 -12.51516  82.58061  -72.08993   9.90558  199.62971  18.85382  \n",
       "4  -1.49237  -7.50035   51.76631   7.88713   55.66926  28.74903  \n",
       "\n",
       "[5 rows x 91 columns]"
      ]
     },
     "execution_count": 6,
     "metadata": {},
     "output_type": "execute_result"
    }
   ],
   "source": [
    "data.head(5)"
   ]
  },
  {
   "cell_type": "code",
   "execution_count": 7,
   "metadata": {},
   "outputs": [],
   "source": [
    "data.iloc[:,1:] = (data.iloc[:,1:] - data.iloc[:,1:].min())/(data.iloc[:,1:].max() - data.iloc[:,1:].min())"
   ]
  },
  {
   "cell_type": "code",
   "execution_count": 8,
   "metadata": {},
   "outputs": [
    {
     "data": {
      "text/html": [
       "<div>\n",
       "<style scoped>\n",
       "    .dataframe tbody tr th:only-of-type {\n",
       "        vertical-align: middle;\n",
       "    }\n",
       "\n",
       "    .dataframe tbody tr th {\n",
       "        vertical-align: top;\n",
       "    }\n",
       "\n",
       "    .dataframe thead th {\n",
       "        text-align: right;\n",
       "    }\n",
       "</style>\n",
       "<table border=\"1\" class=\"dataframe\">\n",
       "  <thead>\n",
       "    <tr style=\"text-align: right;\">\n",
       "      <th></th>\n",
       "      <th>1</th>\n",
       "      <th>2</th>\n",
       "      <th>3</th>\n",
       "      <th>4</th>\n",
       "      <th>5</th>\n",
       "      <th>6</th>\n",
       "      <th>7</th>\n",
       "      <th>8</th>\n",
       "      <th>9</th>\n",
       "      <th>10</th>\n",
       "      <th>...</th>\n",
       "      <th>81</th>\n",
       "      <th>82</th>\n",
       "      <th>83</th>\n",
       "      <th>84</th>\n",
       "      <th>85</th>\n",
       "      <th>86</th>\n",
       "      <th>87</th>\n",
       "      <th>88</th>\n",
       "      <th>89</th>\n",
       "      <th>90</th>\n",
       "    </tr>\n",
       "  </thead>\n",
       "  <tbody>\n",
       "    <tr>\n",
       "      <th>count</th>\n",
       "      <td>515345.000000</td>\n",
       "      <td>515345.000000</td>\n",
       "      <td>515345.000000</td>\n",
       "      <td>515345.000000</td>\n",
       "      <td>515345.000000</td>\n",
       "      <td>515345.000000</td>\n",
       "      <td>515345.000000</td>\n",
       "      <td>515345.000000</td>\n",
       "      <td>515345.000000</td>\n",
       "      <td>515345.000000</td>\n",
       "      <td>...</td>\n",
       "      <td>515345.000000</td>\n",
       "      <td>515345.000000</td>\n",
       "      <td>515345.000000</td>\n",
       "      <td>515345.000000</td>\n",
       "      <td>515345.000000</td>\n",
       "      <td>515345.000000</td>\n",
       "      <td>515345.000000</td>\n",
       "      <td>515345.000000</td>\n",
       "      <td>515345.000000</td>\n",
       "      <td>515345.000000</td>\n",
       "    </tr>\n",
       "    <tr>\n",
       "      <th>mean</th>\n",
       "      <td>0.691420</td>\n",
       "      <td>0.469220</td>\n",
       "      <td>0.496370</td>\n",
       "      <td>0.317065</td>\n",
       "      <td>0.395025</td>\n",
       "      <td>0.291384</td>\n",
       "      <td>0.515292</td>\n",
       "      <td>0.354893</td>\n",
       "      <td>0.477338</td>\n",
       "      <td>0.426704</td>\n",
       "      <td>...</td>\n",
       "      <td>0.354641</td>\n",
       "      <td>0.487939</td>\n",
       "      <td>0.368868</td>\n",
       "      <td>0.649008</td>\n",
       "      <td>0.567965</td>\n",
       "      <td>0.466491</td>\n",
       "      <td>0.600212</td>\n",
       "      <td>0.343834</td>\n",
       "      <td>0.503537</td>\n",
       "      <td>0.361319</td>\n",
       "    </tr>\n",
       "    <tr>\n",
       "      <th>std</th>\n",
       "      <td>0.100755</td>\n",
       "      <td>0.071524</td>\n",
       "      <td>0.056533</td>\n",
       "      <td>0.033315</td>\n",
       "      <td>0.051486</td>\n",
       "      <td>0.051839</td>\n",
       "      <td>0.040408</td>\n",
       "      <td>0.039970</td>\n",
       "      <td>0.038797</td>\n",
       "      <td>0.064036</td>\n",
       "      <td>...</td>\n",
       "      <td>0.025103</td>\n",
       "      <td>0.019795</td>\n",
       "      <td>0.024342</td>\n",
       "      <td>0.019669</td>\n",
       "      <td>0.026832</td>\n",
       "      <td>0.016751</td>\n",
       "      <td>0.024320</td>\n",
       "      <td>0.019081</td>\n",
       "      <td>0.012494</td>\n",
       "      <td>0.020852</td>\n",
       "    </tr>\n",
       "    <tr>\n",
       "      <th>min</th>\n",
       "      <td>0.000000</td>\n",
       "      <td>0.000000</td>\n",
       "      <td>0.000000</td>\n",
       "      <td>0.000000</td>\n",
       "      <td>0.000000</td>\n",
       "      <td>0.000000</td>\n",
       "      <td>0.000000</td>\n",
       "      <td>0.000000</td>\n",
       "      <td>0.000000</td>\n",
       "      <td>0.000000</td>\n",
       "      <td>...</td>\n",
       "      <td>0.000000</td>\n",
       "      <td>0.000000</td>\n",
       "      <td>0.000000</td>\n",
       "      <td>0.000000</td>\n",
       "      <td>0.000000</td>\n",
       "      <td>0.000000</td>\n",
       "      <td>0.000000</td>\n",
       "      <td>0.000000</td>\n",
       "      <td>0.000000</td>\n",
       "      <td>0.000000</td>\n",
       "    </tr>\n",
       "    <tr>\n",
       "      <th>25%</th>\n",
       "      <td>0.634423</td>\n",
       "      <td>0.431296</td>\n",
       "      <td>0.464117</td>\n",
       "      <td>0.297366</td>\n",
       "      <td>0.363241</td>\n",
       "      <td>0.255425</td>\n",
       "      <td>0.492028</td>\n",
       "      <td>0.331428</td>\n",
       "      <td>0.455263</td>\n",
       "      <td>0.384271</td>\n",
       "      <td>...</td>\n",
       "      <td>0.340902</td>\n",
       "      <td>0.480489</td>\n",
       "      <td>0.356416</td>\n",
       "      <td>0.640192</td>\n",
       "      <td>0.556182</td>\n",
       "      <td>0.459281</td>\n",
       "      <td>0.589698</td>\n",
       "      <td>0.333791</td>\n",
       "      <td>0.498181</td>\n",
       "      <td>0.351738</td>\n",
       "    </tr>\n",
       "    <tr>\n",
       "      <th>50%</th>\n",
       "      <td>0.705890</td>\n",
       "      <td>0.479105</td>\n",
       "      <td>0.499284</td>\n",
       "      <td>0.313357</td>\n",
       "      <td>0.396254</td>\n",
       "      <td>0.284665</td>\n",
       "      <td>0.516247</td>\n",
       "      <td>0.355178</td>\n",
       "      <td>0.477685</td>\n",
       "      <td>0.425735</td>\n",
       "      <td>...</td>\n",
       "      <td>0.349492</td>\n",
       "      <td>0.490235</td>\n",
       "      <td>0.366329</td>\n",
       "      <td>0.648116</td>\n",
       "      <td>0.568804</td>\n",
       "      <td>0.466188</td>\n",
       "      <td>0.600926</td>\n",
       "      <td>0.341917</td>\n",
       "      <td>0.502710</td>\n",
       "      <td>0.360114</td>\n",
       "    </tr>\n",
       "    <tr>\n",
       "      <th>75%</th>\n",
       "      <td>0.765261</td>\n",
       "      <td>0.517524</td>\n",
       "      <td>0.530202</td>\n",
       "      <td>0.332624</td>\n",
       "      <td>0.427220</td>\n",
       "      <td>0.320143</td>\n",
       "      <td>0.539971</td>\n",
       "      <td>0.378515</td>\n",
       "      <td>0.500192</td>\n",
       "      <td>0.468526</td>\n",
       "      <td>...</td>\n",
       "      <td>0.362867</td>\n",
       "      <td>0.497739</td>\n",
       "      <td>0.378451</td>\n",
       "      <td>0.657254</td>\n",
       "      <td>0.581505</td>\n",
       "      <td>0.473829</td>\n",
       "      <td>0.611214</td>\n",
       "      <td>0.351711</td>\n",
       "      <td>0.508002</td>\n",
       "      <td>0.369201</td>\n",
       "    </tr>\n",
       "    <tr>\n",
       "      <th>max</th>\n",
       "      <td>1.000000</td>\n",
       "      <td>1.000000</td>\n",
       "      <td>1.000000</td>\n",
       "      <td>1.000000</td>\n",
       "      <td>1.000000</td>\n",
       "      <td>1.000000</td>\n",
       "      <td>1.000000</td>\n",
       "      <td>1.000000</td>\n",
       "      <td>1.000000</td>\n",
       "      <td>1.000000</td>\n",
       "      <td>...</td>\n",
       "      <td>1.000000</td>\n",
       "      <td>1.000000</td>\n",
       "      <td>1.000000</td>\n",
       "      <td>1.000000</td>\n",
       "      <td>1.000000</td>\n",
       "      <td>1.000000</td>\n",
       "      <td>1.000000</td>\n",
       "      <td>1.000000</td>\n",
       "      <td>1.000000</td>\n",
       "      <td>1.000000</td>\n",
       "    </tr>\n",
       "  </tbody>\n",
       "</table>\n",
       "<p>8 rows × 90 columns</p>\n",
       "</div>"
      ],
      "text/plain": [
       "                  1              2              3              4   \\\n",
       "count  515345.000000  515345.000000  515345.000000  515345.000000   \n",
       "mean        0.691420       0.469220       0.496370       0.317065   \n",
       "std         0.100755       0.071524       0.056533       0.033315   \n",
       "min         0.000000       0.000000       0.000000       0.000000   \n",
       "25%         0.634423       0.431296       0.464117       0.297366   \n",
       "50%         0.705890       0.479105       0.499284       0.313357   \n",
       "75%         0.765261       0.517524       0.530202       0.332624   \n",
       "max         1.000000       1.000000       1.000000       1.000000   \n",
       "\n",
       "                  5              6              7              8   \\\n",
       "count  515345.000000  515345.000000  515345.000000  515345.000000   \n",
       "mean        0.395025       0.291384       0.515292       0.354893   \n",
       "std         0.051486       0.051839       0.040408       0.039970   \n",
       "min         0.000000       0.000000       0.000000       0.000000   \n",
       "25%         0.363241       0.255425       0.492028       0.331428   \n",
       "50%         0.396254       0.284665       0.516247       0.355178   \n",
       "75%         0.427220       0.320143       0.539971       0.378515   \n",
       "max         1.000000       1.000000       1.000000       1.000000   \n",
       "\n",
       "                  9              10      ...                   81  \\\n",
       "count  515345.000000  515345.000000      ...        515345.000000   \n",
       "mean        0.477338       0.426704      ...             0.354641   \n",
       "std         0.038797       0.064036      ...             0.025103   \n",
       "min         0.000000       0.000000      ...             0.000000   \n",
       "25%         0.455263       0.384271      ...             0.340902   \n",
       "50%         0.477685       0.425735      ...             0.349492   \n",
       "75%         0.500192       0.468526      ...             0.362867   \n",
       "max         1.000000       1.000000      ...             1.000000   \n",
       "\n",
       "                  82             83             84             85  \\\n",
       "count  515345.000000  515345.000000  515345.000000  515345.000000   \n",
       "mean        0.487939       0.368868       0.649008       0.567965   \n",
       "std         0.019795       0.024342       0.019669       0.026832   \n",
       "min         0.000000       0.000000       0.000000       0.000000   \n",
       "25%         0.480489       0.356416       0.640192       0.556182   \n",
       "50%         0.490235       0.366329       0.648116       0.568804   \n",
       "75%         0.497739       0.378451       0.657254       0.581505   \n",
       "max         1.000000       1.000000       1.000000       1.000000   \n",
       "\n",
       "                  86             87             88             89  \\\n",
       "count  515345.000000  515345.000000  515345.000000  515345.000000   \n",
       "mean        0.466491       0.600212       0.343834       0.503537   \n",
       "std         0.016751       0.024320       0.019081       0.012494   \n",
       "min         0.000000       0.000000       0.000000       0.000000   \n",
       "25%         0.459281       0.589698       0.333791       0.498181   \n",
       "50%         0.466188       0.600926       0.341917       0.502710   \n",
       "75%         0.473829       0.611214       0.351711       0.508002   \n",
       "max         1.000000       1.000000       1.000000       1.000000   \n",
       "\n",
       "                  90  \n",
       "count  515345.000000  \n",
       "mean        0.361319  \n",
       "std         0.020852  \n",
       "min         0.000000  \n",
       "25%         0.351738  \n",
       "50%         0.360114  \n",
       "75%         0.369201  \n",
       "max         1.000000  \n",
       "\n",
       "[8 rows x 90 columns]"
      ]
     },
     "execution_count": 8,
     "metadata": {},
     "output_type": "execute_result"
    }
   ],
   "source": [
    "data.iloc[:,1:].describe()"
   ]
  },
  {
   "cell_type": "code",
   "execution_count": 9,
   "metadata": {},
   "outputs": [],
   "source": [
    "data_ds = data[data[0]>1940]\n",
    "min_samples = data_ds[0].value_counts().min()"
   ]
  },
  {
   "cell_type": "code",
   "execution_count": 10,
   "metadata": {},
   "outputs": [
    {
     "data": {
      "text/plain": [
       "3102"
      ]
     },
     "execution_count": 10,
     "metadata": {},
     "output_type": "execute_result"
    }
   ],
   "source": [
    "min_samples"
   ]
  },
  {
   "cell_type": "code",
   "execution_count": 11,
   "metadata": {},
   "outputs": [],
   "source": [
    "decades = data_ds[0].unique()"
   ]
  },
  {
   "cell_type": "code",
   "execution_count": 12,
   "metadata": {},
   "outputs": [
    {
     "data": {
      "text/plain": [
       "array([2000, 1990, 1980, 1970, 1960, 2010, 1950], dtype=int64)"
      ]
     },
     "execution_count": 12,
     "metadata": {},
     "output_type": "execute_result"
    }
   ],
   "source": [
    "decades"
   ]
  },
  {
   "cell_type": "code",
   "execution_count": 13,
   "metadata": {},
   "outputs": [
    {
     "data": {
      "text/plain": [
       "Int64Index([ 0,  1,  2,  3,  4,  5,  6,  7,  8,  9, 10, 11, 12, 13, 14, 15, 16,\n",
       "            17, 18, 19, 20, 21, 22, 23, 24, 25, 26, 27, 28, 29, 30, 31, 32, 33,\n",
       "            34, 35, 36, 37, 38, 39, 40, 41, 42, 43, 44, 45, 46, 47, 48, 49, 50,\n",
       "            51, 52, 53, 54, 55, 56, 57, 58, 59, 60, 61, 62, 63, 64, 65, 66, 67,\n",
       "            68, 69, 70, 71, 72, 73, 74, 75, 76, 77, 78, 79, 80, 81, 82, 83, 84,\n",
       "            85, 86, 87, 88, 89, 90],\n",
       "           dtype='int64')"
      ]
     },
     "execution_count": 13,
     "metadata": {},
     "output_type": "execute_result"
    }
   ],
   "source": [
    "data_ds.columns"
   ]
  },
  {
   "cell_type": "code",
   "execution_count": 14,
   "metadata": {},
   "outputs": [],
   "source": [
    "data_sampled = pd.DataFrame(columns=data_ds.columns)"
   ]
  },
  {
   "cell_type": "code",
   "execution_count": 15,
   "metadata": {},
   "outputs": [],
   "source": [
    "for decade in decades:\n",
    "    data_sampled = data_sampled.append(data_ds[data_ds[0]==decade].sample(min_samples))"
   ]
  },
  {
   "cell_type": "code",
   "execution_count": 16,
   "metadata": {},
   "outputs": [],
   "source": [
    "data_sampled[0] = data_sampled[0].astype(int)"
   ]
  },
  {
   "cell_type": "code",
   "execution_count": 17,
   "metadata": {},
   "outputs": [],
   "source": [
    "X = data_sampled.iloc[:,1:].values\n",
    "target = data_sampled.iloc[:,0].values"
   ]
  },
  {
   "cell_type": "code",
   "execution_count": 18,
   "metadata": {},
   "outputs": [],
   "source": [
    "pca = decomposition.PCA(n_components=2)\n",
    "pca.fit(X)\n",
    "X_pca = pca.transform(X)"
   ]
  },
  {
   "cell_type": "code",
   "execution_count": 19,
   "metadata": {},
   "outputs": [],
   "source": [
    "from sklearn import decomposition"
   ]
  },
  {
   "cell_type": "code",
   "execution_count": 20,
   "metadata": {},
   "outputs": [],
   "source": [
    "prin_comp = []\n",
    "samples, features = X_pca.shape"
   ]
  },
  {
   "cell_type": "code",
   "execution_count": 21,
   "metadata": {},
   "outputs": [],
   "source": [
    "for m in range(1,features+1):\n",
    "    prin_comp.append(\"Principal Component {}\".format(m))"
   ]
  },
  {
   "cell_type": "code",
   "execution_count": 22,
   "metadata": {},
   "outputs": [],
   "source": [
    "cols = prin_comp+[\"Release Decade\"]"
   ]
  },
  {
   "cell_type": "code",
   "execution_count": 23,
   "metadata": {},
   "outputs": [],
   "source": [
    "data_pca = pd.DataFrame(np.append(X_pca, target.reshape(samples, 1), axis=1), columns=cols)"
   ]
  },
  {
   "cell_type": "code",
   "execution_count": 24,
   "metadata": {},
   "outputs": [],
   "source": [
    "data_pca[\"Release Decade\"] = data_pca[\"Release Decade\"].astype(int)"
   ]
  },
  {
   "cell_type": "code",
   "execution_count": 25,
   "metadata": {},
   "outputs": [
    {
     "name": "stdout",
     "output_type": "stream",
     "text": [
      "(21714, 3)\n"
     ]
    }
   ],
   "source": [
    "print(data_pca.shape)"
   ]
  },
  {
   "cell_type": "code",
   "execution_count": 26,
   "metadata": {},
   "outputs": [
    {
     "data": {
      "text/plain": [
       "KMeans(algorithm='auto', copy_x=True, init='k-means++', max_iter=300,\n",
       "    n_clusters=7, n_init=10, n_jobs=1, precompute_distances='auto',\n",
       "    random_state=None, tol=0.0001, verbose=0)"
      ]
     },
     "execution_count": 26,
     "metadata": {},
     "output_type": "execute_result"
    }
   ],
   "source": [
    "model = KMeans(n_clusters=7)\n",
    "model.fit(data_pca.iloc[:,:20])"
   ]
  },
  {
   "cell_type": "code",
   "execution_count": 27,
   "metadata": {},
   "outputs": [
    {
     "data": {
      "text/plain": [
       "array([1950, 1960, 1970, 1980, 1990, 2000, 2010])"
      ]
     },
     "execution_count": 27,
     "metadata": {},
     "output_type": "execute_result"
    }
   ],
   "source": [
    "np.unique(target)"
   ]
  },
  {
   "cell_type": "code",
   "execution_count": 28,
   "metadata": {},
   "outputs": [],
   "source": [
    "def convertTo7Vals(X):\n",
    "    myArray = []\n",
    "    for x in X:\n",
    "        if x == 1950:\n",
    "            myArray.append(0)\n",
    "        elif x == 1960:\n",
    "            myArray.append(1)\n",
    "        elif x == 1970:\n",
    "            myArray.append(2)\n",
    "        elif x == 1980:\n",
    "            myArray.append(3)\n",
    "        elif x == 1990:\n",
    "            myArray.append(4)\n",
    "        elif x == 2000:\n",
    "            myArray.append(5)\n",
    "        elif x == 2010:\n",
    "            myArray.append(6)\n",
    "        \n",
    "    return myArray"
   ]
  },
  {
   "cell_type": "code",
   "execution_count": 29,
   "metadata": {},
   "outputs": [],
   "source": [
    "target_new = convertTo7Vals(data_pca.iloc[:,2:].values)"
   ]
  },
  {
   "cell_type": "code",
   "execution_count": 30,
   "metadata": {},
   "outputs": [
    {
     "data": {
      "text/plain": [
       "array([5, 5, 5, ..., 0, 0, 0])"
      ]
     },
     "execution_count": 30,
     "metadata": {},
     "output_type": "execute_result"
    }
   ],
   "source": [
    "np.array(target_new)"
   ]
  },
  {
   "cell_type": "code",
   "execution_count": 31,
   "metadata": {},
   "outputs": [
    {
     "name": "stdout",
     "output_type": "stream",
     "text": [
      "--- 1.723008632659912 seconds ---\n"
     ]
    }
   ],
   "source": [
    "start_time = time.time()\n",
    "kmeans_model = KMeans(n_clusters=7)\n",
    "kmeans_model.fit(data_pca.iloc[:,:2])\n",
    "print(\"--- %s seconds ---\" % (time.time() - start_time))"
   ]
  },
  {
   "cell_type": "code",
   "execution_count": 32,
   "metadata": {},
   "outputs": [
    {
     "data": {
      "text/plain": [
       "array([5, 2, 2, ..., 4, 1, 1])"
      ]
     },
     "execution_count": 32,
     "metadata": {},
     "output_type": "execute_result"
    }
   ],
   "source": [
    "kmeans_model.labels_"
   ]
  },
  {
   "cell_type": "code",
   "execution_count": 33,
   "metadata": {},
   "outputs": [
    {
     "data": {
      "text/plain": [
       "0.1639034724141107"
      ]
     },
     "execution_count": 33,
     "metadata": {},
     "output_type": "execute_result"
    }
   ],
   "source": [
    "sm.accuracy_score(target_new, kmeans_model.labels_)"
   ]
  },
  {
   "cell_type": "code",
   "execution_count": 34,
   "metadata": {},
   "outputs": [
    {
     "data": {
      "text/plain": [
       "Text(0.5,1,'K Means Classification')"
      ]
     },
     "execution_count": 34,
     "metadata": {},
     "output_type": "execute_result"
    },
    {
     "data": {
      "image/png": "[encoded data removed]",
      "text/plain": [
       "<Figure size 432x288 with 2 Axes>"
      ]
     },
     "metadata": {},
     "output_type": "display_data"
    }
   ],
   "source": [
    "colormap = np.array(['red', 'green', 'blue', 'yellow', 'cyan', 'magenta','black'])\n",
    "\n",
    "plt.subplot(1, 2, 1)\n",
    "plt.scatter(data_pca['Principal Component 1'], data_pca['Principal Component 2'], c=colormap[target_new], s=40)\n",
    "plt.title('Real Classification')\n",
    "\n",
    "\n",
    "plt.subplot(1, 2, 2)\n",
    "plt.scatter(data_pca['Principal Component 1'], data_pca['Principal Component 2'], c=colormap[kmeans_model.labels_], s=40)\n",
    "plt.title('K Means Classification')"
   ]
  },
  {
   "cell_type": "code",
   "execution_count": 35,
   "metadata": {},
   "outputs": [],
   "source": [
    "from sklearn.cluster import spectral_clustering\n",
    "from sklearn.cluster import SpectralClustering"
   ]
  },
  {
   "cell_type": "code",
   "execution_count": null,
   "metadata": {},
   "outputs": [],
   "source": [
    "start_time = time.time()\n",
    "spectral = SpectralClustering(n_clusters=7,\n",
    "      eigen_solver='arpack',\n",
    "      affinity='rbf',\n",
    "      assign_labels='discretize'\n",
    "  ).fit(data_pca.iloc[:,:2])\n",
    "print(\"--- %s seconds ---\" % (time.time() - start_time))\n"
   ]
  },
  {
   "cell_type": "code",
   "execution_count": null,
   "metadata": {},
   "outputs": [],
   "source": [
    "spectral.labels_"
   ]
  },
  {
   "cell_type": "code",
   "execution_count": null,
   "metadata": {},
   "outputs": [],
   "source": [
    "sm.accuracy_score(target_new, spectral.labels_)"
   ]
  },
  {
   "cell_type": "code",
   "execution_count": null,
   "metadata": {},
   "outputs": [],
   "source": [
    "colormap = np.array(['red', 'lime', 'black', 'purple', 'yellow', 'brown','blue'])\n",
    "\n",
    "plt.subplot(1, 2, 1)\n",
    "plt.scatter(data_pca['Principal Component 1'], data_pca['Principal Component 2'], c=colormap[target_new], s=40)\n",
    "plt.title('Real Classification')\n",
    "\n",
    "\n",
    "plt.subplot(1, 2, 2)\n",
    "plt.scatter(data_pca['Principal Component 1'], data_pca['Principal Component 2'], c=colormap[spectral.labels_], s=40)\n",
    "plt.title('K Means Classification')"
   ]
  }
 ],
 "metadata": {
  "kernelspec": {
   "display_name": "Python 3",
   "language": "python",
   "name": "python3"
  },
  "language_info": {
   "codemirror_mode": {
    "name": "ipython",
    "version": 3
   },
   "file_extension": ".py",
   "mimetype": "text/x-python",
   "name": "python",
   "nbconvert_exporter": "python",
   "pygments_lexer": "ipython3",
   "version": "3.6.5"
  }
 },
 "nbformat": 4,
 "nbformat_minor": 2
}
